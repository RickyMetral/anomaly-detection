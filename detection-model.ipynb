{
 "cells": [
  {
   "cell_type": "code",
   "execution_count": null,
   "id": "8372b511",
   "metadata": {
    "vscode": {
     "languageId": "plaintext"
    }
   },
   "outputs": [],
   "source": [
    "train_data = datasets._______\n",
    "test_data  = datasets.______\n",
    "in_features\n",
    "\n",
    "loaders = {\n",
    "    \"train\" : DataLoader(train_data,\n",
    "                        batch_size = ___,\n",
    "                        shuffle = True,\n",
    "                        num_workers = ___),\n",
    "    \"test\"  : DataLoader(test_data,\n",
    "                        batch_size = ___,\n",
    "                        shuffle = True,\n",
    "                        num_workers = ___)\n",
    "}"
   ]
  },
  {
   "cell_type": "code",
   "execution_count": null,
   "id": "4474b638",
   "metadata": {
    "vscode": {
     "languageId": "plaintext"
    }
   },
   "outputs": [],
   "source": []
  },
  {
   "cell_type": "code",
   "execution_count": null,
   "id": "210c08b3",
   "metadata": {
    "vscode": {
     "languageId": "plaintext"
    }
   },
   "outputs": [],
   "source": []
  }
 ],
 "metadata": {
  "language_info": {
   "name": "python"
  }
 },
 "nbformat": 4,
 "nbformat_minor": 5
}
