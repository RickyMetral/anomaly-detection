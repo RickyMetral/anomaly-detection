{
 "cells": [
  {
   "cell_type": "code",
   "execution_count": 1,
   "id": "4474b638",
   "metadata": {
    "vscode": {
     "languageId": "plaintext"
    }
   },
   "outputs": [],
   "source": [
    "import torch\n",
    "import torch.nn as nn\n",
    "import torch.nn.functional as F\n",
    "import torch.optim as optim\n",
    "from torch.utils.data import DataLoader, Dataset\n",
    "from torchvision import datasets, transforms, models\n",
    "\n",
    "\n",
    "transform = transforms.Compose([\n",
    "    transforms.Resize((224, 224)), # Resize images to 224x224\n",
    "    transforms.ToTensor(), # Convert PIL Image to tensor\n",
    "    transforms.Normalize(mean=[0.485, 0.456, 0.406], std=[0.229, 0.224, 0.225]) # Normalize images\n",
    "])\n",
    "train_path = \"anomaly-dataset/train/\"\n",
    "test_path = \"anomaly-dataset/test\"\n",
    "\n",
    "train_data = datasets.ImageFolder(root = train_path, transform=transform)\n",
    "test_data  = datasets.ImageFolder(root = test_path, transform=transform)\n",
    "\n",
    "\n",
    "loaders = {\n",
    "    \"train\" : DataLoader(train_data,\n",
    "                        batch_size = 32,\n",
    "                        shuffle = True,\n",
    "                        num_workers = 1),\n",
    "    \"test\"  : DataLoader(test_data,\n",
    "                        batch_size = 32,\n",
    "                        shuffle = True,\n",
    "                        num_workers = 1)\n",
    "}"
   ]
  },
  {
   "cell_type": "code",
   "execution_count": 2,
   "id": "210c08b3",
   "metadata": {
    "vscode": {
     "languageId": "plaintext"
    }
   },
   "outputs": [],
   "source": [
    "class AnomalyDetection(nn.Module):\n",
    "    max_channels = 20\n",
    "    def __init__(self, in_channels, out_channels, batch_size):\n",
    "        super().__init__()\n",
    "\n",
    "        self.conv1 = nn.Conv2d(in_channels, 10, kernel_size=3)\n",
    "        self.conv2 = nn.Conv2d(10, out_channels, kernel_size=3)\n",
    "        self.conv2_drop = nn.Dropout2d()\n",
    "        self.glob_avg_pool = nn.AdaptiveAvgPool2d((1,1))\n",
    "        self.linear1 = nn.Linear(out_channels, 1)\n",
    "\n",
    "\n",
    "    def forward(self, x):\n",
    "        x = F.relu(F.max_pool2d(self.conv1(x), 2))\n",
    "        x = F.relu(F.max_pool2d(self.conv2_drop(self.conv2(x)), 2))\n",
    "        x = F.relu(self.glob_avg_pool(x))\n",
    "        x = torch.flatten(x, 1)\n",
    "        x = F.relu(self.linear1(x))\n",
    "\n",
    "        return torch.sigmoid(x)"
   ]
  },
  {
   "cell_type": "code",
   "execution_count": 3,
   "id": "11b575b3",
   "metadata": {
    "vscode": {
     "languageId": "plaintext"
    }
   },
   "outputs": [],
   "source": [
    "\n",
    "import torch\n",
    "import torch.nn as nn\n",
    "import torch.nn.functional as F\n",
    "import torch.optim as optim\n",
    "from torch.utils.data import DataLoader, Dataset\n",
    "from torchvision import datasets, transforms, models\n",
    "\n",
    "\n",
    "device = torch.device(\"cuda\")\n",
    "model = AnomalyDetection(3, 20, 32)\n",
    "# model = models.mobilenet_v3_large(weights=\"DEFAULT\")\n",
    "\n",
    "# for param in model.parameters():\n",
    "#     param.requires_grad = False\n",
    "\n",
    "model.to(device)\n",
    "optimizer = optim.Adam(model.parameters(), lr = 0.01)\n",
    "loss_fn = nn.BCELoss()\n",
    "\n",
    "# model.classifier[3] = nn.Linear(1280, 1)\n",
    "# model.classifier.add_module(\"4\", nn.Sigmoid())\n",
    "\n"
   ]
  },
  {
   "cell_type": "code",
   "execution_count": 4,
   "id": "9596fecb",
   "metadata": {
    "vscode": {
     "languageId": "plaintext"
    }
   },
   "outputs": [],
   "source": [
    "def train(model, epoch):\n",
    "    model.train()\n",
    "    for num_batch, (data, label) in enumerate(loaders[\"train\"]):\n",
    "        data, label = data.to(device), label.to(device)\n",
    "        optimizer.zero_grad()\n",
    "        output = model(data)\n",
    "        loss = loss_fn(output, label.unsqueeze(1).float().to(device))\n",
    "        loss.backward()\n",
    "        optimizer.step()\n",
    "        if num_batch % 10 == 0:\n",
    "            print(f\"Train epoch: {epoch} [{num_batch * len(data)}/{len(loaders['train'].dataset)} ({100. * num_batch / len(loaders['train']):.0f}%)]\\t{loss.item():.6f}\")\n",
    "\n",
    "\n",
    "def test(model):\n",
    "    model.eval()\n",
    "    test_loss = 0\n",
    "    correct = 0\n",
    "\n",
    "    with torch.no_grad():\n",
    "        for data, target in loaders[\"test\"]:\n",
    "            data, target = data.to(device), target.to(device)\n",
    "            output = model(data)\n",
    "            target = target.float()\n",
    "            test_loss += loss_fn(output, target.unsqueeze(1).float()).item() * len(data) # Multiply by batch size to get total loss for the batch\n",
    "            pred = (output >= 0.5).squeeze() # Remove the extra dimension\n",
    "            correct += pred.eq(target.view_as(pred)).sum().item()\n",
    "\n",
    "    test_loss/=len(loaders[\"test\"].dataset)\n",
    "    print(f\"\\nTest Set: Average Loss: {test_loss:.4f}, Accuracy {correct}/{len(loaders['test'].dataset)} ({100* correct / len(loaders['test'].dataset):.0f}%\\n)\")"
   ]
  },
  {
   "cell_type": "code",
   "execution_count": 193,
   "id": "3c2c7e0b",
   "metadata": {
    "scrolled": true,
    "vscode": {
     "languageId": "plaintext"
    }
   },
   "outputs": [
    {
     "name": "stderr",
     "output_type": "stream",
     "text": [
      "/usr/lib/python3/dist-packages/PIL/Image.py:945: UserWarning: Palette images with Transparency expressed in bytes should be converted to RGBA images\n",
      "  warnings.warn(\n"
     ]
    },
    {
     "name": "stdout",
     "output_type": "stream",
     "text": [
      "Train epoch: 1 [0/1588 (0%)]\t0.693147\n",
      "Train epoch: 1 [320/1588 (20%)]\t0.693147\n",
      "Train epoch: 1 [640/1588 (40%)]\t0.693147\n",
      "Train epoch: 1 [960/1588 (60%)]\t0.693147\n",
      "Train epoch: 1 [1280/1588 (80%)]\t0.693147\n",
      "\n",
      "Test Set: Average Loss: 0.6931, Accuracy 85/216 (39%\n",
      ")\n",
      "Train epoch: 2 [0/1588 (0%)]\t0.693147\n",
      "Train epoch: 2 [320/1588 (20%)]\t0.693147\n",
      "Train epoch: 2 [640/1588 (40%)]\t0.693147\n",
      "Train epoch: 2 [960/1588 (60%)]\t0.693147\n",
      "Train epoch: 2 [1280/1588 (80%)]\t0.693147\n"
     ]
    },
    {
     "name": "stderr",
     "output_type": "stream",
     "text": [
      "/usr/lib/python3/dist-packages/PIL/Image.py:945: UserWarning: Palette images with Transparency expressed in bytes should be converted to RGBA images\n",
      "  warnings.warn(\n"
     ]
    },
    {
     "name": "stdout",
     "output_type": "stream",
     "text": [
      "\n",
      "Test Set: Average Loss: 0.6931, Accuracy 85/216 (39%\n",
      ")\n",
      "Train epoch: 3 [0/1588 (0%)]\t0.693147\n",
      "Train epoch: 3 [320/1588 (20%)]\t0.693147\n",
      "Train epoch: 3 [640/1588 (40%)]\t0.693147\n"
     ]
    },
    {
     "name": "stderr",
     "output_type": "stream",
     "text": [
      "/usr/lib/python3/dist-packages/PIL/Image.py:945: UserWarning: Palette images with Transparency expressed in bytes should be converted to RGBA images\n",
      "  warnings.warn(\n"
     ]
    },
    {
     "name": "stdout",
     "output_type": "stream",
     "text": [
      "Train epoch: 3 [960/1588 (60%)]\t0.693147\n",
      "Train epoch: 3 [1280/1588 (80%)]\t0.693147\n",
      "\n",
      "Test Set: Average Loss: 0.6931, Accuracy 85/216 (39%\n",
      ")\n",
      "Train epoch: 4 [0/1588 (0%)]\t0.693147\n",
      "Train epoch: 4 [320/1588 (20%)]\t0.693147\n",
      "Train epoch: 4 [640/1588 (40%)]\t0.693147\n",
      "Train epoch: 4 [960/1588 (60%)]\t0.693147\n"
     ]
    },
    {
     "name": "stderr",
     "output_type": "stream",
     "text": [
      "/usr/lib/python3/dist-packages/PIL/Image.py:945: UserWarning: Palette images with Transparency expressed in bytes should be converted to RGBA images\n",
      "  warnings.warn(\n"
     ]
    },
    {
     "name": "stdout",
     "output_type": "stream",
     "text": [
      "Train epoch: 4 [1280/1588 (80%)]\t0.693147\n",
      "\n",
      "Test Set: Average Loss: 0.6931, Accuracy 85/216 (39%\n",
      ")\n"
     ]
    }
   ],
   "source": [
    "for epoch in range(1, 5):\n",
    "    train(model, epoch)\n",
    "    test(model)"
   ]
  },
  {
   "cell_type": "code",
   "execution_count": 59,
   "id": "4bc11ff8",
   "metadata": {
    "vscode": {
     "languageId": "plaintext"
    }
   },
   "outputs": [
    {
     "name": "stderr",
     "output_type": "stream",
     "text": [
      "Clipping input data to the valid range for imshow with RGB data ([0..1] for floats or [0..255] for integers).\n"
     ]
    },
    {
     "name": "stdout",
     "output_type": "stream",
     "text": [
      "Label: Normal\n"
     ]
    },
    {
     "data": {
      "image/png": "[encoded data removed]",
      "text/plain": [
       "<Figure size 432x288 with 1 Axes>"
      ]
     },
     "metadata": {
      "needs_background": "light"
     },
     "output_type": "display_data"
    }
   ],
   "source": [
    "import random\n",
    "import matplotlib.pyplot as plt\n",
    "from torchvision import transforms\n",
    "\n",
    "model.eval()\n",
    "preds = ['Anomaly', \"Normal\"]\n",
    "\n",
    "# Get a random sample from the dataset\n",
    "index = random.randint(0, len(test_data) - 1)\n",
    "data, target = test_data[index]\n",
    "\n",
    "\n",
    "# Add batch dimension and move to device\n",
    "data = data.unsqueeze(0).to(device)\n",
    "\n",
    "# Inference\n",
    "output = model(data)\n",
    "pred = (output >= 0.5)\n",
    "print(f\"Label: {preds[target]}\")\n",
    "\n",
    "# Convert the image tensor for display\n",
    "# Assuming the tensor shape is [1, 28, 28] (grayscale), we squeeze and use matplotlib\n",
    "image = data.squeeze(0).permute(1,2,0).cpu().numpy()\n",
    "\n",
    "# Plotting the image\n",
    "plt.imshow(image, cmap='gray')\n",
    "plt.title(f\"Predicted: {preds[pred]}\")\n",
    "plt.axis('off')\n",
    "plt.show()"
   ]
  },
  {
   "cell_type": "code",
   "execution_count": null,
   "id": "f4046c76",
   "metadata": {},
   "outputs": [],
   "source": []
  },
  {
   "cell_type": "code",
   "execution_count": null,
   "id": "9be03267",
   "metadata": {},
   "outputs": [],
   "source": []
  }
 ],
 "metadata": {
  "kernelspec": {
   "display_name": "Python 3 (ipykernel)",
   "language": "python",
   "name": "python3"
  },
  "language_info": {
   "codemirror_mode": {
    "name": "ipython",
    "version": 3
   },
   "file_extension": ".py",
   "mimetype": "text/x-python",
   "name": "python",
   "nbconvert_exporter": "python",
   "pygments_lexer": "ipython3",
   "version": "3.10.12"
  }
 },
 "nbformat": 4,
 "nbformat_minor": 5
}
